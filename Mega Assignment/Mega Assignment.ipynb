{
 "cells": [
  {
   "cell_type": "markdown",
   "metadata": {},
   "source": [
    "# Mega Assignment\n",
    "### Muhammad Tahir\n",
    "### PIAIC 71675"
   ]
  },
  {
   "cell_type": "code",
   "execution_count": null,
   "metadata": {},
   "outputs": [],
   "source": [
    "# 1\n",
    "# option (d)"
   ]
  },
  {
   "cell_type": "code",
   "execution_count": 2,
   "metadata": {},
   "outputs": [],
   "source": [
    "# 2\n",
    "# option (b)"
   ]
  },
  {
   "cell_type": "code",
   "execution_count": 3,
   "metadata": {},
   "outputs": [],
   "source": [
    "# 3\n",
    "# option (b)"
   ]
  },
  {
   "cell_type": "code",
   "execution_count": 4,
   "metadata": {},
   "outputs": [],
   "source": [
    "# 4\n",
    "#option (b)"
   ]
  },
  {
   "cell_type": "code",
   "execution_count": 9,
   "metadata": {},
   "outputs": [],
   "source": [
    "# 5\n",
    "#option (d)"
   ]
  },
  {
   "cell_type": "code",
   "execution_count": 10,
   "metadata": {},
   "outputs": [],
   "source": [
    "# 6\n",
    "#option (b)"
   ]
  },
  {
   "cell_type": "code",
   "execution_count": 14,
   "metadata": {},
   "outputs": [],
   "source": [
    "# 7\n",
    "# option (b,d)"
   ]
  },
  {
   "cell_type": "code",
   "execution_count": 37,
   "metadata": {},
   "outputs": [],
   "source": [
    "# 8\n",
    "# option (b)"
   ]
  },
  {
   "cell_type": "code",
   "execution_count": 78,
   "metadata": {},
   "outputs": [
    {
     "name": "stdout",
     "output_type": "stream",
     "text": [
      "enter the key : tahir\n",
      "enter the value : 1\n",
      "key is present but value is not present\n"
     ]
    }
   ],
   "source": [
    "# 9\n",
    "dic = {\"tahir\": 9 , \"fakhar\" : 2 , \"zaeem\" : 4}\n",
    "k=input(\"enter the key : \")\n",
    "v =int(input(\"enter the value : \"))\n",
    "if k in dic.keys():\n",
    "    if v in dic.values():\n",
    "      print(\"both are present\")\n",
    "    elif k in dic.keys():\n",
    "       print(\"key is present but value is not present\")\n",
    "elif v in dic.values():\n",
    " print(\"value is present but key is not present\")\n",
    "else:\n",
    " print(\"both are not present\")"
   ]
  },
  {
   "cell_type": "code",
   "execution_count": 14,
   "metadata": {},
   "outputs": [
    {
     "name": "stdout",
     "output_type": "stream",
     "text": [
      "Enter string:e e e e r r t t t t t t y\n",
      "{'e': 4, 'r': 2, 't': 6}\n"
     ]
    }
   ],
   "source": [
    "# 10\n",
    "dic={}\n",
    "test_string=input(\"Enter string:\")\n",
    "l=[]\n",
    "l=test_string.split()\n",
    "wordfreq=[l.count(p) for p in l]\n",
    "for i in range(len(l)):\n",
    "    d=wordfreq[i] % 2\n",
    "    if (d==0):\n",
    "        dic[l[i]] = wordfreq[i]\n",
    "print(dic)"
   ]
  },
  {
   "cell_type": "code",
   "execution_count": 25,
   "metadata": {},
   "outputs": [],
   "source": [
    "# 11 \n",
    "# X = [\"Feb\", \"Apr\", \"Mar\", \"May\", \"Jun\", \"Jul\", \"Aug\", \"Jan\"]\n",
    "# X[0:3] return Feb Apr Mar\n",
    "# X[2:8] return Mar May Jun Jul Aug Jan\n",
    "# X[4:9] return Jun Jul Aug Jan\n",
    "# X[1:7:2] return Apr May Jul\n",
    "# X[-1:-7] return [] \n",
    "# X[-7:7] return Apr Mar Jun Jul Aug\n",
    "# X[-1:-8:-2] return Jan Jul May Apr\n",
    "# X[:4] return Feb Apr Mar May"
   ]
  },
  {
   "cell_type": "code",
   "execution_count": 30,
   "metadata": {},
   "outputs": [],
   "source": [
    "# 12\n",
    "# 3 .remove(9)"
   ]
  },
  {
   "cell_type": "code",
   "execution_count": 35,
   "metadata": {},
   "outputs": [],
   "source": [
    "# 13\n",
    "# 1 *"
   ]
  },
  {
   "cell_type": "code",
   "execution_count": 37,
   "metadata": {},
   "outputs": [],
   "source": [
    "# 14\n",
    "# 1 .upper()"
   ]
  },
  {
   "cell_type": "code",
   "execution_count": 38,
   "metadata": {},
   "outputs": [],
   "source": [
    "# 15\n",
    "# print(type(p)) return boolean\n",
    "# print(type(q)) return str\n",
    "# print(type(r)) return int\n",
    "# print(type(s)) return float"
   ]
  },
  {
   "cell_type": "code",
   "execution_count": 39,
   "metadata": {},
   "outputs": [],
   "source": [
    "# 16\n",
    "# 2 p and R2"
   ]
  },
  {
   "cell_type": "code",
   "execution_count": 40,
   "metadata": {},
   "outputs": [],
   "source": [
    "# 17 \n",
    "# 4 p.x()"
   ]
  },
  {
   "cell_type": "code",
   "execution_count": 41,
   "metadata": {},
   "outputs": [
    {
     "name": "stdout",
     "output_type": "stream",
     "text": [
      "0\n",
      "2.0\n",
      "2\n",
      "2\n"
     ]
    }
   ],
   "source": [
    "# 18\n",
    "X=4\n",
    "Y=2\n",
    "print(X % Y)\n",
    "print(X / Y)\n",
    "print(X // Y)\n",
    "print(Y % X)"
   ]
  },
  {
   "cell_type": "code",
   "execution_count": 77,
   "metadata": {},
   "outputs": [
    {
     "name": "stdout",
     "output_type": "stream",
     "text": [
      "4\n",
      "1\n",
      "1\n",
      "5\n",
      "9\n",
      "0\n"
     ]
    }
   ],
   "source": [
    "# 19 \n",
    "x = [[4, 1, 1], [5, 9, 0]]\n",
    "for i in range(2):\n",
    "   for j in range(3):\n",
    "    print(x[i][j])"
   ]
  },
  {
   "cell_type": "code",
   "execution_count": 94,
   "metadata": {},
   "outputs": [
    {
     "name": "stdout",
     "output_type": "stream",
     "text": [
      "4 1 1 5 9 0 "
     ]
    }
   ],
   "source": [
    "# 19\n",
    "x = [[4, 1, 1], [5, 9, 0]]\n",
    "for i in range(2):\n",
    "   for j in range(3):\n",
    "    print(x[i][j],end=' ')"
   ]
  },
  {
   "cell_type": "code",
   "execution_count": 103,
   "metadata": {},
   "outputs": [
    {
     "name": "stdout",
     "output_type": "stream",
     "text": [
      "4 1 1 \n",
      "5 9 0 \n"
     ]
    }
   ],
   "source": [
    "# 19\n",
    "x = [[4, 1, 1], [5, 9, 0]]\n",
    "for i in range(2):\n",
    "    for j in range(3):\n",
    "        print(x[i][j], end=' ')\n",
    "    print()"
   ]
  },
  {
   "cell_type": "code",
   "execution_count": 111,
   "metadata": {},
   "outputs": [],
   "source": [
    "# 20\n",
    "# option 3"
   ]
  },
  {
   "cell_type": "code",
   "execution_count": 112,
   "metadata": {},
   "outputs": [],
   "source": [
    "# 21\n",
    "# option (b)"
   ]
  },
  {
   "cell_type": "code",
   "execution_count": 116,
   "metadata": {},
   "outputs": [],
   "source": [
    "# 22\n",
    "# option (a) "
   ]
  },
  {
   "cell_type": "code",
   "execution_count": 117,
   "metadata": {},
   "outputs": [],
   "source": [
    "# 23\n",
    "# True\n",
    "# True\n",
    "# False"
   ]
  },
  {
   "cell_type": "code",
   "execution_count": 119,
   "metadata": {},
   "outputs": [
    {
     "name": "stdout",
     "output_type": "stream",
     "text": [
      "11.333333333333334\n"
     ]
    }
   ],
   "source": [
    "# 24\n",
    "def avg ( x , y , z = 50 ):\n",
    "    adding = x + y + z\n",
    "    avg_value = adding / 3\n",
    "    return avg_value\n",
    "y = avg ( x = 5 , y = 9 , z = 20 )\n",
    "print(y)"
   ]
  },
  {
   "cell_type": "code",
   "execution_count": 149,
   "metadata": {},
   "outputs": [
    {
     "name": "stdout",
     "output_type": "stream",
     "text": [
      "Name : tahir Marks: 44.5\n"
     ]
    }
   ],
   "source": [
    "# 25\n",
    "def avg (name,*opt_values):\n",
    "    avg_value = sum (opt_values) / len(opt_values)\n",
    "    print('Name : '+name+ ' Marks: ' + str(avg_value))\n",
    "avg ('tahir',5 , 9 , 20, 34, 87, 112)\n",
    "# Accepting optional positional arguments (often called star args in reference to the conventional name for the parameter, *args) can make a function call more clear and remove visual noise."
   ]
  },
  {
   "cell_type": "code",
   "execution_count": 167,
   "metadata": {},
   "outputs": [
    {
     "name": "stdout",
     "output_type": "stream",
     "text": [
      "The winner was Manchester\n",
      "The score was 1-0\n"
     ]
    }
   ],
   "source": [
    "# 26\n",
    "def display_result(winner, score, **other_info):\n",
    "    print(\"The winner was \" + winner)\n",
    "    print(\"The score was \" + score)\n",
    "display_result(\"Manchester\", \"1-0\", overtime =\"yes\", injuries=\"none\")\n",
    "# * operator get values in tuple and ** operator get dictionary"
   ]
  },
  {
   "cell_type": "code",
   "execution_count": 179,
   "metadata": {},
   "outputs": [
    {
     "ename": "SyntaxError",
     "evalue": "invalid syntax (<ipython-input-179-622b722df2b7>, line 2)",
     "output_type": "error",
     "traceback": [
      "\u001b[1;36m  File \u001b[1;32m\"<ipython-input-179-622b722df2b7>\"\u001b[1;36m, line \u001b[1;32m2\u001b[0m\n\u001b[1;33m    def display_result(winner,**other_info,score):\u001b[0m\n\u001b[1;37m                                               ^\u001b[0m\n\u001b[1;31mSyntaxError\u001b[0m\u001b[1;31m:\u001b[0m invalid syntax\n"
     ]
    }
   ],
   "source": [
    "# 27\n",
    "def display_result(winner,**other_info,score):\n",
    "    print(\"The winner was \" + winner)\n",
    "    print(\"The score was \" + score)\n",
    "display_result(winner=\"Manchester\", overtime =\"yes\", injuries=\"none\", score=\"1-0\")\n",
    "# it has visual noise "
   ]
  },
  {
   "cell_type": "code",
   "execution_count": 189,
   "metadata": {},
   "outputs": [
    {
     "name": "stdout",
     "output_type": "stream",
     "text": [
      "000123\n"
     ]
    }
   ],
   "source": [
    "# 28\n",
    "X=123\n",
    "print(\"%06d\"%X)\n",
    "# option (b)"
   ]
  },
  {
   "cell_type": "code",
   "execution_count": 208,
   "metadata": {},
   "outputs": [
    {
     "name": "stdout",
     "output_type": "stream",
     "text": [
      "22.19\n"
     ]
    }
   ],
   "source": [
    "# 29\n",
    "x=22.19\n",
    "print(\"%5.2f\"%x)\n",
    "# option (c)"
   ]
  },
  {
   "cell_type": "code",
   "execution_count": 209,
   "metadata": {},
   "outputs": [
    {
     "data": {
      "text/plain": [
       "'1.234560, 1.234560, 01.23'"
      ]
     },
     "execution_count": 209,
     "metadata": {},
     "output_type": "execute_result"
    }
   ],
   "source": [
    "# 30\n",
    "'{0:f}, {1:2f}, {2:05.2f}'.format(1.23456, 1.23456, 1.23456)\n",
    "# option (d)"
   ]
  },
  {
   "cell_type": "code",
   "execution_count": 223,
   "metadata": {},
   "outputs": [
    {
     "name": "stdout",
     "output_type": "stream",
     "text": [
      "1\n"
     ]
    }
   ],
   "source": [
    "# 31\n",
    "i = 1\n",
    "while False:   # when while loop is false code inside the while loop does not execute  \n",
    "    if i%2 == 0: \n",
    "     break\n",
    "print(i)\n",
    "i += 2"
   ]
  },
  {
   "cell_type": "code",
   "execution_count": 239,
   "metadata": {},
   "outputs": [
    {
     "name": "stdout",
     "output_type": "stream",
     "text": [
      "a a a a a a "
     ]
    }
   ],
   "source": [
    "# 32\n",
    "x = \"abcdef\"\n",
    "i = \"a\"\n",
    "while i in x:   \n",
    "    x = x[:-1]\n",
    "    print(i, end = \" \") "
   ]
  },
  {
   "cell_type": "code",
   "execution_count": 242,
   "metadata": {},
   "outputs": [
    {
     "name": "stdout",
     "output_type": "stream",
     "text": [
      "a\n",
      "b\n",
      "c\n",
      "d\n"
     ]
    }
   ],
   "source": [
    "# 33\n",
    "for i in ''.join(list('abcd')):\n",
    "    print (i)"
   ]
  },
  {
   "cell_type": "code",
   "execution_count": 243,
   "metadata": {},
   "outputs": [
    {
     "name": "stdout",
     "output_type": "stream",
     "text": [
      "d\n",
      "c\n",
      "b\n",
      "a\n"
     ]
    }
   ],
   "source": [
    "# 33\n",
    "for i in ''.join(reversed(list('abcd'))):\n",
    "    print (i)"
   ]
  },
  {
   "cell_type": "code",
   "execution_count": 244,
   "metadata": {},
   "outputs": [
    {
     "name": "stdout",
     "output_type": "stream",
     "text": [
      "a\n",
      "b\n",
      "c\n",
      "d\n"
     ]
    }
   ],
   "source": [
    "# 33\n",
    "for i in list('abcd'):\n",
    "    print (i)"
   ]
  },
  {
   "cell_type": "code",
   "execution_count": 245,
   "metadata": {},
   "outputs": [
    {
     "name": "stdout",
     "output_type": "stream",
     "text": [
      "d\n",
      "c\n",
      "b\n",
      "a\n"
     ]
    }
   ],
   "source": [
    "# 33\n",
    "for i in reversed(list('abcd')):\n",
    "    print (i)"
   ]
  },
  {
   "cell_type": "code",
   "execution_count": 254,
   "metadata": {},
   "outputs": [
    {
     "name": "stdout",
     "output_type": "stream",
     "text": [
      "0\n",
      "1\n",
      "2\n",
      "3\n",
      "4\n"
     ]
    }
   ],
   "source": [
    "# 34\n",
    "for i in range(10):\n",
    "    if i == 5:            # condition \n",
    "        break\n",
    "    else:\n",
    "        print(i)          # first 5 iteration this line execute\n",
    "else:\n",
    "        print(\"Here\")   # this line never execute because only\n",
    "                        # one if have one else"
   ]
  },
  {
   "cell_type": "code",
   "execution_count": 259,
   "metadata": {},
   "outputs": [
    {
     "name": "stdout",
     "output_type": "stream",
     "text": [
      "48\n"
     ]
    }
   ],
   "source": [
    "# 35 \n",
    "y = 6\n",
    "z = lambda x: x * y     #A lambda function is a small anonymous function.\n",
    "# A lambda function can take any number of arguments, but can only have one expression.\n",
    "print(z(8))  # here we pass 8 to function it multiply with y which is 6"
   ]
  },
  {
   "cell_type": "code",
   "execution_count": 277,
   "metadata": {},
   "outputs": [
    {
     "name": "stdout",
     "output_type": "stream",
     "text": [
      "2\n",
      "0\n"
     ]
    }
   ],
   "source": [
    "# 36\n",
    "i=0\n",
    "def change(i):\n",
    "    i=i+1\n",
    "    return i\n",
    "print(change(1))   #this function actual change the value which is passed to this function\n",
    "print(i)           # here we print i which is 0 .... this give only value of i which is declared already"
   ]
  },
  {
   "cell_type": "code",
   "execution_count": 284,
   "metadata": {},
   "outputs": [
    {
     "name": "stdout",
     "output_type": "stream",
     "text": [
      "<class 'tuple'>\n",
      "(2, 3, 4)\n"
     ]
    }
   ],
   "source": [
    "# 37\n",
    "def change(one,*two):\n",
    "    print(type(two))  # this print type of argument ' two ' \n",
    "    print(two)\n",
    "change(1,2,3,4)\n",
    "# A tuple is a collection which is ordered and unchangeable. In Python tuples are written with round brackets."
   ]
  },
  {
   "cell_type": "code",
   "execution_count": 289,
   "metadata": {},
   "outputs": [
    {
     "name": "stdout",
     "output_type": "stream",
     "text": [
      "<class 'dict'>\n"
     ]
    }
   ],
   "source": [
    "#38\n",
    "def find(a, **b):  #we can use ** when defining a function to capture any keyword arguments given to the function into a dictionary\n",
    "    print(type(b)) # this print type of argument ' b ' ...type is dict \n",
    "find('tahir',A='1',B='2')  "
   ]
  },
  {
   "cell_type": "code",
   "execution_count": 291,
   "metadata": {},
   "outputs": [
    {
     "name": "stdout",
     "output_type": "stream",
     "text": [
      "[0]\n",
      "[0, 1]\n",
      "[0, 1, 2]\n"
     ]
    }
   ],
   "source": [
    "# 39\n",
    "def foo(i, x=[]):\n",
    "    x.append(i)  # append function use to add element in list\n",
    "    return x\n",
    "for i in range(3): # on every iteration it add value of i in list\n",
    "    print(foo(i))    "
   ]
  },
  {
   "cell_type": "code",
   "execution_count": 292,
   "metadata": {},
   "outputs": [
    {
     "data": {
      "text/plain": [
       "15"
      ]
     },
     "execution_count": 292,
     "metadata": {},
     "output_type": "execute_result"
    }
   ],
   "source": [
    "# 40 \n",
    "(3*(1+2)**2-(2**2)*3) \n",
    "# first execute (1+2) and (2**2)\n",
    "# second execute (3)**2\n",
    "# third execute 3*9 and 4*3\n",
    "# fourth excute 27 - 12"
   ]
  },
  {
   "cell_type": "code",
   "execution_count": 293,
   "metadata": {},
   "outputs": [],
   "source": [
    "# 41 \n",
    "# option (E)"
   ]
  },
  {
   "cell_type": "code",
   "execution_count": 294,
   "metadata": {},
   "outputs": [],
   "source": [
    "# 42\n",
    "# Option (B and C)"
   ]
  },
  {
   "cell_type": "code",
   "execution_count": 305,
   "metadata": {},
   "outputs": [
    {
     "name": "stdout",
     "output_type": "stream",
     "text": [
      " Enter marks : 75\n",
      "C Grade\n"
     ]
    }
   ],
   "source": [
    "# 43\n",
    "marks = int(input(\" Enter marks : \"))\n",
    "if marks>=90:\n",
    "   print(\"A Grade\")\n",
    "elif marks>=80:\n",
    "   print(\"B Grade\")\n",
    "elif marks>=70:\n",
    "   print(\"C Grade\")\n",
    "elif marks>=60:\n",
    "   print(\"D Grade\")\n",
    "else:\n",
    "    print(\"E Grade\")\n"
   ]
  },
  {
   "cell_type": "code",
   "execution_count": null,
   "metadata": {},
   "outputs": [],
   "source": []
  }
 ],
 "metadata": {
  "kernelspec": {
   "display_name": "Python 3",
   "language": "python",
   "name": "python3"
  },
  "language_info": {
   "codemirror_mode": {
    "name": "ipython",
    "version": 3
   },
   "file_extension": ".py",
   "mimetype": "text/x-python",
   "name": "python",
   "nbconvert_exporter": "python",
   "pygments_lexer": "ipython3",
   "version": "3.7.4"
  }
 },
 "nbformat": 4,
 "nbformat_minor": 2
}
