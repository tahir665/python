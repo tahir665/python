{
 "cells": [
  {
   "cell_type": "markdown",
   "metadata": {},
   "source": [
    "# Assignment\n",
    "Name : Muhammad Tahir\n",
    "Roll No: PIAIC71675\n",
    "Course: AI\n",
    "City : Islamabad"
   ]
  },
  {
   "cell_type": "code",
   "execution_count": 22,
   "metadata": {},
   "outputs": [
    {
     "name": "stdout",
     "output_type": "stream",
     "text": [
      "muhammad tahir\n",
      "Muhammad tahir\n"
     ]
    }
   ],
   "source": [
    "print(name)\n",
    "print(name.capitalize())"
   ]
  },
  {
   "cell_type": "code",
   "execution_count": 21,
   "metadata": {},
   "outputs": [
    {
     "name": "stdout",
     "output_type": "stream",
     "text": [
      "MUHAMMAD TAHIR\n",
      "muhammad tahir\n"
     ]
    }
   ],
   "source": [
    "name1=\"MUHAMMAD TAHIR\"\n",
    "print(name1)\n",
    "print(name1.casefold())"
   ]
  },
  {
   "cell_type": "code",
   "execution_count": 23,
   "metadata": {},
   "outputs": [
    {
     "name": "stdout",
     "output_type": "stream",
     "text": [
      "MUHAMMAD TAHIR\n",
      "                                           MUHAMMAD TAHIR                                           \n"
     ]
    }
   ],
   "source": [
    "print(name1)\n",
    "print(name1.center(100))"
   ]
  },
  {
   "cell_type": "code",
   "execution_count": 24,
   "metadata": {},
   "outputs": [
    {
     "name": "stdout",
     "output_type": "stream",
     "text": [
      "muhammad tahir\n",
      "3\n"
     ]
    }
   ],
   "source": [
    "print(name)\n",
    "print(name.count(\"m\"))"
   ]
  },
  {
   "cell_type": "code",
   "execution_count": 39,
   "metadata": {},
   "outputs": [
    {
     "name": "stdout",
     "output_type": "stream",
     "text": [
      "pythön!\n",
      "b'pyth\\xc3\\xb6n!'\n",
      "b'pythn!'\n",
      "b'pyth?n!'\n"
     ]
    }
   ],
   "source": [
    "name2='pythön!'\n",
    "print(name2)\n",
    "print(name2.encode())\n",
    "print(name2.encode(\"ascii\", \"ignore\"))\n",
    "print(name2.encode(\"ascii\", \"replace\"))"
   ]
  },
  {
   "cell_type": "code",
   "execution_count": 54,
   "metadata": {},
   "outputs": [
    {
     "name": "stdout",
     "output_type": "stream",
     "text": [
      "False\n",
      "True\n"
     ]
    }
   ],
   "source": [
    "name3=\"i love my country.\"\n",
    "print(name3.endswith('love'))\n",
    "print(name3.endswith('my country.'))\n"
   ]
  },
  {
   "cell_type": "code",
   "execution_count": 57,
   "metadata": {},
   "outputs": [
    {
     "name": "stdout",
     "output_type": "stream",
     "text": [
      "i         love      my        country.\n",
      "i                   love                my                  country.\n",
      "i  love  my country.\n"
     ]
    }
   ],
   "source": [
    "name4=\"i\\tlove\\tmy\\tcountry.\"\n",
    "print(name4.expandtabs(10))\n",
    "print(name4.expandtabs(20))\n",
    "print(name4.expandtabs(3))"
   ]
  },
  {
   "cell_type": "code",
   "execution_count": 59,
   "metadata": {},
   "outputs": [
    {
     "name": "stdout",
     "output_type": "stream",
     "text": [
      "i love my country.\n",
      "10\n"
     ]
    }
   ],
   "source": [
    "print(name3)\n",
    "print(name3.find(\"country.\"))"
   ]
  },
  {
   "cell_type": "code",
   "execution_count": 61,
   "metadata": {},
   "outputs": [
    {
     "name": "stdout",
     "output_type": "stream",
     "text": [
      "i name Tahir,i am 22 years old.\n"
     ]
    }
   ],
   "source": [
    "print(\"i name {},i am {} years old.\".format(\"Tahir\", 22))\n"
   ]
  },
  {
   "cell_type": "code",
   "execution_count": 66,
   "metadata": {},
   "outputs": [
    {
     "name": "stdout",
     "output_type": "stream",
     "text": [
      "(6, y)\n",
      "(x, 5)\n",
      "(6, 5)\n"
     ]
    }
   ],
   "source": [
    "class Coordinate(dict):\n",
    "    def __missing__(self, key):\n",
    "      return key\n",
    "print('({x}, {y})'.format_map(Coordinate(x='6')))\n",
    "print('({x}, {y})'.format_map(Coordinate(y='5')))\n",
    "print('({x}, {y})'.format_map(Coordinate(x='6', y='5')))"
   ]
  },
  {
   "cell_type": "code",
   "execution_count": 73,
   "metadata": {},
   "outputs": [
    {
     "name": "stdout",
     "output_type": "stream",
     "text": [
      "'my': 7\n"
     ]
    }
   ],
   "source": [
    "sentence = 'i love my country.'\n",
    "\n",
    "result = sentence.index('my')\n",
    "print(\"'my':\", result)"
   ]
  },
  {
   "cell_type": "code",
   "execution_count": 76,
   "metadata": {},
   "outputs": [
    {
     "name": "stdout",
     "output_type": "stream",
     "text": [
      "i love my country.\n",
      "False\n",
      "muhammadtahir\n",
      "True\n"
     ]
    }
   ],
   "source": [
    "name5=\"muhammadtahir\"\n",
    "print(name2)\n",
    "print(name2.isalnum())\n",
    "print(name5)\n",
    "print(name5.isalnum())\n"
   ]
  },
  {
   "cell_type": "code",
   "execution_count": 77,
   "metadata": {},
   "outputs": [
    {
     "name": "stdout",
     "output_type": "stream",
     "text": [
      "i love my country.\n",
      "False\n",
      "muhammadtahir\n",
      "True\n"
     ]
    }
   ],
   "source": [
    "name5=\"muhammadtahir\"\n",
    "print(name2)\n",
    "print(name2.isalpha())\n",
    "print(name5)\n",
    "print(name5.isalpha())"
   ]
  },
  {
   "cell_type": "code",
   "execution_count": 78,
   "metadata": {},
   "outputs": [
    {
     "name": "stdout",
     "output_type": "stream",
     "text": [
      "True\n",
      "False\n"
     ]
    }
   ],
   "source": [
    "s = \"28212\"\n",
    "print(s.isdecimal())\n",
    "\n",
    "s = \"32ladk3\"\n",
    "print(s.isdecimal())\n"
   ]
  },
  {
   "cell_type": "code",
   "execution_count": 79,
   "metadata": {},
   "outputs": [
    {
     "name": "stdout",
     "output_type": "stream",
     "text": [
      "True\n",
      "False\n"
     ]
    }
   ],
   "source": [
    "s = \"28212\"\n",
    "print(s.isdigit())\n",
    "\n",
    "\n",
    "s = \"Mo3 nicaG el l22er\"\n",
    "print(s.isdigit())"
   ]
  },
  {
   "cell_type": "code",
   "execution_count": 81,
   "metadata": {},
   "outputs": [
    {
     "name": "stdout",
     "output_type": "stream",
     "text": [
      "True\n",
      "False\n"
     ]
    }
   ],
   "source": [
    "str = 'Python'\n",
    "print(str.isidentifier())\n",
    "\n",
    "str = 'Py thon'\n",
    "print(str.isidentifier())"
   ]
  },
  {
   "cell_type": "code",
   "execution_count": 82,
   "metadata": {},
   "outputs": [
    {
     "name": "stdout",
     "output_type": "stream",
     "text": [
      "True\n",
      "False\n"
     ]
    }
   ],
   "source": [
    "s = 'tahir'\n",
    "print(s.islower())\n",
    "\n",
    "s = 'taHIr'\n",
    "print(s.islower())"
   ]
  },
  {
   "cell_type": "code",
   "execution_count": 83,
   "metadata": {},
   "outputs": [
    {
     "name": "stdout",
     "output_type": "stream",
     "text": [
      "True\n",
      "False\n"
     ]
    }
   ],
   "source": [
    "s = '1242323'\n",
    "print(s.isnumeric())\n",
    "s='python12'\n",
    "print(s.isnumeric())"
   ]
  },
  {
   "cell_type": "code",
   "execution_count": 84,
   "metadata": {},
   "outputs": [
    {
     "name": "stdout",
     "output_type": "stream",
     "text": [
      "Tahir\n",
      "True\n",
      "\n",
      "Tahir\n",
      "False\n"
     ]
    }
   ],
   "source": [
    "s = 'Tahir'\n",
    "print(s)\n",
    "print(s.isprintable())\n",
    "\n",
    "s = '\\nTahir'\n",
    "print(s)\n",
    "print(s.isprintable())"
   ]
  },
  {
   "cell_type": "code",
   "execution_count": 91,
   "metadata": {},
   "outputs": [
    {
     "name": "stdout",
     "output_type": "stream",
     "text": [
      "True\n",
      "False\n"
     ]
    }
   ],
   "source": [
    "s = ' '\n",
    "print(s.isspace())\n",
    "\n",
    "s = '  t '\n",
    "print(s.isspace())"
   ]
  },
  {
   "cell_type": "code",
   "execution_count": 93,
   "metadata": {},
   "outputs": [
    {
     "name": "stdout",
     "output_type": "stream",
     "text": [
      "True\n",
      "False\n"
     ]
    }
   ],
   "source": [
    "s = 'I Love My Country.'\n",
    "print(s.istitle())\n",
    "\n",
    "s = 'I cove cy country'\n",
    "print(s.istitle())"
   ]
  },
  {
   "cell_type": "code",
   "execution_count": 95,
   "metadata": {},
   "outputs": [
    {
     "name": "stdout",
     "output_type": "stream",
     "text": [
      "True\n",
      "False\n"
     ]
    }
   ],
   "source": [
    "string = \"TAHIR\"\n",
    "print(string.isupper());\n",
    "\n",
    "string = \"Tahir\"\n",
    "print(string.isupper());"
   ]
  },
  {
   "cell_type": "code",
   "execution_count": 96,
   "metadata": {},
   "outputs": [
    {
     "name": "stdout",
     "output_type": "stream",
     "text": [
      "1abc2abc3\n",
      "a123b123c\n"
     ]
    }
   ],
   "source": [
    "s1 = 'abc'\n",
    "s2 = '123' \n",
    "print( s1.join(s2)) \n",
    "print( s2.join(s1))"
   ]
  },
  {
   "cell_type": "code",
   "execution_count": 102,
   "metadata": {},
   "outputs": [
    {
     "name": "stdout",
     "output_type": "stream",
     "text": [
      "cat555\n"
     ]
    }
   ],
   "source": [
    "string = 'cat'\n",
    "width = 6\n",
    "print(string.ljust(width,\"5\"))"
   ]
  },
  {
   "cell_type": "code",
   "execution_count": 103,
   "metadata": {},
   "outputs": [
    {
     "name": "stdout",
     "output_type": "stream",
     "text": [
      "555cat\n"
     ]
    }
   ],
   "source": [
    "string = 'cat'\n",
    "width = 6\n",
    "print(string.rjust(width,\"5\"))"
   ]
  },
  {
   "cell_type": "code",
   "execution_count": 106,
   "metadata": {},
   "outputs": [
    {
     "name": "stdout",
     "output_type": "stream",
     "text": [
      "MUHAMMAD TAHIR\n",
      "muhammad tahir\n"
     ]
    }
   ],
   "source": [
    "print(name1)\n",
    "print(name1.lower())"
   ]
  },
  {
   "cell_type": "code",
   "execution_count": 107,
   "metadata": {},
   "outputs": [
    {
     "name": "stdout",
     "output_type": "stream",
     "text": [
      "muhammad tahir\n",
      "MUHAMMAD TAHIR\n"
     ]
    }
   ],
   "source": [
    "print(name)\n",
    "print(name.upper())"
   ]
  },
  {
   "cell_type": "code",
   "execution_count": 109,
   "metadata": {},
   "outputs": [
    {
     "name": "stdout",
     "output_type": "stream",
     "text": [
      "muhammad tahir\n",
      "MUHAMMAD TAHIR\n",
      "MUHAMMAD TAHIR\n",
      "muhammad tahir\n"
     ]
    }
   ],
   "source": [
    "print(name)\n",
    "print(name.swapcase())\n",
    "print(name1)\n",
    "print(name1.swapcase())"
   ]
  },
  {
   "cell_type": "code",
   "execution_count": 138,
   "metadata": {},
   "outputs": [
    {
     "name": "stdout",
     "output_type": "stream",
     "text": [
      "muhammad tahir \n",
      "uhammad tahir \n"
     ]
    }
   ],
   "source": [
    "string = '   muhammad tahir '\n",
    "print(string.lstrip())\n",
    "\n",
    "print(string.lstrip('m '))"
   ]
  },
  {
   "cell_type": "code",
   "execution_count": 168,
   "metadata": {},
   "outputs": [
    {
     "name": "stdout",
     "output_type": "stream",
     "text": [
      "  muhammad tahir\n",
      "  muhammad tah\n"
     ]
    }
   ],
   "source": [
    "string = \"  muhammad tahir  \"\n",
    "print(string.rstrip())\n",
    " \n",
    "print(string.rstrip(' ir'))"
   ]
  },
  {
   "cell_type": "code",
   "execution_count": 197,
   "metadata": {},
   "outputs": [
    {
     "name": "stdout",
     "output_type": "stream",
     "text": [
      "1234 tahir 1234\n",
      "ahi\n"
     ]
    }
   ],
   "source": [
    "string = ' 1234 tahir 1234 '\n",
    "print(string.strip())\n",
    " \n",
    "print(string.strip('1234rt '))"
   ]
  },
  {
   "cell_type": "code",
   "execution_count": 203,
   "metadata": {},
   "outputs": [
    {
     "name": "stdout",
     "output_type": "stream",
     "text": [
      "('I love ', 'my', ' country')\n"
     ]
    }
   ],
   "source": [
    "string = \"I love my country\"\n",
    "\n",
    "\n",
    "print(string.partition(\"my\"))"
   ]
  },
  {
   "cell_type": "code",
   "execution_count": 205,
   "metadata": {},
   "outputs": [
    {
     "name": "stdout",
     "output_type": "stream",
     "text": [
      "{115: '123', 100: '456', 102: '789'}\n"
     ]
    }
   ],
   "source": [
    "dict = {\"s\": \"123\", \"d\": \"456\", \"f\": \"789\"}\n",
    "string = \"sdf\"\n",
    "print(string.maketrans(dict))"
   ]
  },
  {
   "cell_type": "code",
   "execution_count": 1,
   "metadata": {},
   "outputs": [
    {
     "name": "stdout",
     "output_type": "stream",
     "text": [
      "('I ', 'Love ', 'My Country')\n"
     ]
    }
   ],
   "source": [
    "string = \"I Love My Country\"\n",
    "\n",
    "print(string.rpartition('Love '))"
   ]
  },
  {
   "cell_type": "code",
   "execution_count": 11,
   "metadata": {},
   "outputs": [
    {
     "name": "stdout",
     "output_type": "stream",
     "text": [
      "Original string: abcdef\n",
      "Translated string: hidef\n"
     ]
    }
   ],
   "source": [
    "firstString = \"abc\"\n",
    "secondString = \"ghi\"\n",
    "thirdString = \"a\"\n",
    "\n",
    "string = \"abcdef\"\n",
    "print(\"Original string:\", string)\n",
    "\n",
    "translation = string.maketrans(firstString, secondString, thirdString)\n",
    "\n",
    "print(\"Translated string:\", string.translate(translation))"
   ]
  },
  {
   "cell_type": "code",
   "execution_count": 16,
   "metadata": {},
   "outputs": [
    {
     "name": "stdout",
     "output_type": "stream",
     "text": [
      "hamza, hamza khan\n",
      "hamza, tahir khan\n"
     ]
    }
   ],
   "source": [
    "song = 'tahir, tahir khan'\n",
    "print (song.replace('tahir', 'hamza'))\n",
    "print (song.replace('tahir', 'hamza',1))\n"
   ]
  },
  {
   "cell_type": "code",
   "execution_count": 18,
   "metadata": {},
   "outputs": [
    {
     "name": "stdout",
     "output_type": "stream",
     "text": [
      "Substring 'let it': 7\n",
      "Substring 'small ': -1\n"
     ]
    }
   ],
   "source": [
    "q = 'I love my country'\n",
    "\n",
    "result = q.rfind('my')\n",
    "print(\"Substring 'let it':\", result)\n",
    "\n",
    "result = q.rfind('small')\n",
    "print(\"Substring 'small ':\", result)"
   ]
  },
  {
   "cell_type": "code",
   "execution_count": 30,
   "metadata": {},
   "outputs": [
    {
     "name": "stdout",
     "output_type": "stream",
     "text": [
      "22\n"
     ]
    }
   ],
   "source": [
    "quote = 'Let it be, let it be, let it be'\n",
    "\n",
    "result = quote.rindex('let it')\n",
    "print(result)\n",
    "  "
   ]
  },
  {
   "cell_type": "code",
   "execution_count": 37,
   "metadata": {},
   "outputs": [
    {
     "name": "stdout",
     "output_type": "stream",
     "text": [
      "['I', 'love', 'my', 'country']\n",
      "['I love my country']\n"
     ]
    }
   ],
   "source": [
    "text= 'I love my country'\n",
    "\n",
    "print(text.split( ))\n",
    "print(text.split(':'))\n"
   ]
  },
  {
   "cell_type": "code",
   "execution_count": 48,
   "metadata": {},
   "outputs": [
    {
     "name": "stdout",
     "output_type": "stream",
     "text": [
      "['Milk,', 'Chicken,', 'Bread,', 'Butter']\n",
      "['Milk', 'Chicken', 'Bread', 'Butter']\n"
     ]
    }
   ],
   "source": [
    "s = 'Milk, Chicken, Bread, Butter'\n",
    "print(s.rsplit())\n",
    "print(s.rsplit(', ',4))"
   ]
  },
  {
   "cell_type": "code",
   "execution_count": 52,
   "metadata": {},
   "outputs": [
    {
     "name": "stdout",
     "output_type": "stream",
     "text": [
      "['I', 'Love', 'My', 'Country.']\n",
      "['I\\n', 'Love\\r\\n', 'My\\r', 'Country.']\n",
      "['I Love my country.']\n"
     ]
    }
   ],
   "source": [
    "s = 'I\\nLove\\r\\nMy\\rCountry.'\n",
    "\n",
    "print(s.splitlines())\n",
    "print(s.splitlines(True))\n",
    "\n",
    "s = 'I Love my country.'\n",
    "print(s.splitlines())"
   ]
  },
  {
   "cell_type": "code",
   "execution_count": 53,
   "metadata": {},
   "outputs": [
    {
     "name": "stdout",
     "output_type": "stream",
     "text": [
      "False\n",
      "True\n"
     ]
    }
   ],
   "source": [
    "text = \"I Love my country.\"\n",
    "\n",
    "result = text.startswith('Love my')\n",
    "print(result)\n",
    "\n",
    "result = text.startswith('I Love ')\n",
    "print(result)\n"
   ]
  },
  {
   "cell_type": "code",
   "execution_count": 54,
   "metadata": {},
   "outputs": [
    {
     "name": "stdout",
     "output_type": "stream",
     "text": [
      "Muhammad Tahir\n"
     ]
    }
   ],
   "source": [
    "text = 'muhammad tahir'\n",
    "print(text.title())"
   ]
  },
  {
   "cell_type": "code",
   "execution_count": 55,
   "metadata": {},
   "outputs": [
    {
     "name": "stdout",
     "output_type": "stream",
     "text": [
      "0Muhammad Tahir\n",
      "000000Muhammad Tahir\n"
     ]
    }
   ],
   "source": [
    "text = \"Muhammad Tahir\"\n",
    "print(text.zfill(15))\n",
    "print(text.zfill(20))"
   ]
  },
  {
   "cell_type": "code",
   "execution_count": 56,
   "metadata": {},
   "outputs": [
    {
     "name": "stdout",
     "output_type": "stream",
     "text": [
      "4 -5\n"
     ]
    }
   ],
   "source": [
    "point = {'x':4,'y':-5}\n",
    "print('{x} {y}'.format_map(point))"
   ]
  }
 ],
 "metadata": {
  "kernelspec": {
   "display_name": "Python 3",
   "language": "python",
   "name": "python3"
  },
  "language_info": {
   "codemirror_mode": {
    "name": "ipython",
    "version": 3
   },
   "file_extension": ".py",
   "mimetype": "text/x-python",
   "name": "python",
   "nbconvert_exporter": "python",
   "pygments_lexer": "ipython3",
   "version": "3.7.4"
  }
 },
 "nbformat": 4,
 "nbformat_minor": 2
}
